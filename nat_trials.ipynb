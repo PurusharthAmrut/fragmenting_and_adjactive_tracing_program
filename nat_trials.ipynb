{
 "cells": [
  {
   "cell_type": "code",
   "execution_count": 7,
   "metadata": {
    "scrolled": false
   },
   "outputs": [
    {
     "name": "stdout",
     "output_type": "stream",
     "text": [
      "(S\n",
      "  (NPA poor/JJ network/NN antenna/NN i/NN)\n",
      "  was/VBD\n",
      "  using/VBG\n",
      "  (NPB\n",
      "    motorola/NN\n",
      "    in/IN\n",
      "    (NPA the/DT same/JJ area/NN)\n",
      "    and/CC\n",
      "    receiving/VBG\n",
      "    (NPA a/DT better/JJR signal/NN)\n",
      "    (/(\n",
      "    latency/NN\n",
      "    (NPA few/JJ milliseconds/NNS)\n",
      "    )/)\n",
      "    as/IN\n",
      "    compared/VBN\n",
      "    to/TO\n",
      "    galaxy/VB\n",
      "    m21/NN\n",
      "    (/(\n",
      "    latency/NN\n",
      "    and/CC\n",
      "    (NPA signal/JJ strength/NN)\n",
      "    are/VBP\n",
      "    quite/RB\n",
      "    low/JJ)\n",
      "  in/IN\n",
      "  (NPA same/JJ isp/NN)\n",
      "  )/)\n",
      "  ./.)\n"
     ]
    }
   ],
   "source": [
    "from categorise import preprocess\n",
    "import nltk\n",
    "import re\n",
    "\n",
    "#with open('test.txt','r') as handle:\n",
    "#    review = handle.read()\n",
    "\n",
    "review = \"Poor Network Antenna: I was using MOTOROLA in the same area and receiving a better signal (latency few milliseconds) as compared to Galaxy M21 (Latency and signal strength are quite low in same ISP).\"\n",
    "sentence_tok = nltk.word_tokenize(preprocess(review))\n",
    "sentence_tag = nltk.pos_tag(sentence_tok)\n",
    "\n",
    "grammar = r'''NPA: {<DT>?<RB.?>*<JJ.?>+<NN.*?>+}\n",
    "NPB: {<DT|CD>?<NN.*?>+<[^,\\.]*?>*?<JJ.?><RB.?>?}\n",
    "NPC: {<NN.*?>{2,}}'''\n",
    "cp = nltk.RegexpParser(grammar)\n",
    "tree1 = cp.parse(sentence_tag)\n",
    "print(tree1)"
   ]
  },
  {
   "cell_type": "code",
   "execution_count": 8,
   "metadata": {},
   "outputs": [
    {
     "name": "stdout",
     "output_type": "stream",
     "text": [
      "[('motorola', 'NN'), ('in', 'IN'), ('the', 'DT'), ('same', 'JJ'), ('area', 'NN'), ('and', 'CC'), ('receiving', 'VBG'), ('a', 'DT'), ('better', 'JJR'), ('signal', 'NN'), ('(', '('), ('latency', 'NN'), ('few', 'JJ'), ('milliseconds', 'NNS'), (')', ')'), ('as', 'IN'), ('compared', 'VBN'), ('to', 'TO'), ('galaxy', 'VB'), ('m21', 'NN'), ('(', '('), ('latency', 'NN'), ('and', 'CC'), ('signal', 'JJ'), ('strength', 'NN'), ('are', 'VBP'), ('quite', 'RB'), ('low', 'JJ')]\n"
     ]
    }
   ],
   "source": [
    "for capture in tree1.subtrees(filter = lambda e:e.label()=='NPB'):\n",
    "    print(capture.leaves())"
   ]
  },
  {
   "cell_type": "code",
   "execution_count": 12,
   "metadata": {},
   "outputs": [
    {
     "name": "stdout",
     "output_type": "stream",
     "text": [
      "2\n",
      "2\n",
      "2\n",
      "2\n",
      "2\n",
      "2\n"
     ]
    }
   ],
   "source": [
    "list_of_adjectives = list()\n",
    "for element in tree1.subtrees(filter = lambda e:e.height()<=2 and re.search(r'NP[ABC]',e.label()) is not None):\n",
    "    print(element.height())"
   ]
  },
  {
   "cell_type": "code",
   "execution_count": null,
   "metadata": {},
   "outputs": [],
   "source": []
  }
 ],
 "metadata": {
  "kernelspec": {
   "display_name": "Python 3",
   "language": "python",
   "name": "python3"
  },
  "language_info": {
   "codemirror_mode": {
    "name": "ipython",
    "version": 3
   },
   "file_extension": ".py",
   "mimetype": "text/x-python",
   "name": "python",
   "nbconvert_exporter": "python",
   "pygments_lexer": "ipython3",
   "version": "3.7.6"
  }
 },
 "nbformat": 4,
 "nbformat_minor": 4
}
