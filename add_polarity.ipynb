{
 "cells": [
  {
   "cell_type": "code",
   "execution_count": null,
   "metadata": {},
   "outputs": [],
   "source": [
    "from textblob import TextBlob\n",
    "import pandas as pd\n",
    "import pickle\n",
    "\n",
    "data = pd.read_csv('final_dataset4.csv')\n",
    "data.head()"
   ]
  },
  {
   "cell_type": "code",
   "execution_count": null,
   "metadata": {},
   "outputs": [],
   "source": [
    "data.iloc[0]"
   ]
  },
  {
   "cell_type": "code",
   "execution_count": 2,
   "metadata": {},
   "outputs": [],
   "source": [
    "with open('polarity.pkl','rb') as f:\n",
    "    polarity = pickle.load(f)"
   ]
  },
  {
   "cell_type": "code",
   "execution_count": 3,
   "metadata": {},
   "outputs": [],
   "source": [
    "data.dropna(inplace=True)"
   ]
  },
  {
   "cell_type": "code",
   "execution_count": 4,
   "metadata": {},
   "outputs": [],
   "source": [
    "data.reset_index(inplace=True)"
   ]
  },
  {
   "cell_type": "code",
   "execution_count": 5,
   "metadata": {},
   "outputs": [
    {
     "data": {
      "text/plain": [
       "0"
      ]
     },
     "execution_count": 5,
     "metadata": {},
     "output_type": "execute_result"
    }
   ],
   "source": [
    "sum(data['Reviews'].isnull())"
   ]
  },
  {
   "cell_type": "code",
   "execution_count": null,
   "metadata": {
    "scrolled": true
   },
   "outputs": [
    {
     "name": "stdout",
     "output_type": "stream",
     "text": [
      "Reached index 53300\n",
      "Reached index 53400\n",
      "Reached index 53500\n",
      "Reached index 53600\n",
      "Reached index 53700\n",
      "Reached index 53800\n",
      "Reached index 53900\n",
      "Reached index 54000\n",
      "Reached index 54100\n",
      "Reached index 54200\n",
      "Reached index 54300\n",
      "Reached index 54400\n",
      "Reached index 54500\n",
      "Reached index 54600\n",
      "Reached index 54700\n",
      "Reached index 54800\n",
      "Reached index 54900\n",
      "Reached index 55000\n",
      "Reached index 55100\n",
      "Reached index 55200\n",
      "Reached index 55300\n",
      "Reached index 55400\n",
      "Reached index 55500\n",
      "Reached index 55600\n",
      "Reached index 55700\n",
      "Reached index 55800\n",
      "Reached index 55900\n",
      "Reached index 56000\n",
      "Reached index 56100\n",
      "Reached index 56200\n",
      "Reached index 56300\n",
      "Reached index 56400\n",
      "Reached index 56500\n",
      "Reached index 56600\n",
      "Reached index 56700\n",
      "Reached index 56800\n",
      "Reached index 56900\n",
      "Reached index 57000\n",
      "Reached index 57100\n",
      "Reached index 57200\n",
      "Reached index 57300\n",
      "Reached index 57400\n",
      "Reached index 57500\n",
      "Reached index 57600\n",
      "Reached index 57700\n",
      "Reached index 57800\n",
      "Reached index 57900\n",
      "Reached index 58000\n",
      "Reached index 58100\n"
     ]
    }
   ],
   "source": [
    "index = 53299\n",
    "try:\n",
    "    for review in data['Reviews'][53300:]:\n",
    "        index += 1\n",
    "        if index%100==0:\n",
    "            print('Reached index',index)\n",
    "        blob = TextBlob(review)\n",
    "        polarity.append(round(blob.correct().sentiment.polarity,3))\n",
    "except Exception as e:\n",
    "    print(e)\n",
    "    print('last index: '+str(index))\n",
    "    print(review)\n",
    "    saved_polarity = polarity\n",
    "print('done!')"
   ]
  },
  {
   "cell_type": "code",
   "execution_count": null,
   "metadata": {},
   "outputs": [],
   "source": [
    "len(polarity)"
   ]
  },
  {
   "cell_type": "code",
   "execution_count": null,
   "metadata": {},
   "outputs": [],
   "source": [
    "with open('polarity.pkl','wb') as f:\n",
    "    pickle.dump(polarity,f)"
   ]
  },
  {
   "cell_type": "code",
   "execution_count": null,
   "metadata": {},
   "outputs": [],
   "source": [
    "data.to_csv('final_dataset4.csv',index=False)"
   ]
  }
 ],
 "metadata": {
  "kernelspec": {
   "display_name": "Python 3",
   "language": "python",
   "name": "python3"
  },
  "language_info": {
   "codemirror_mode": {
    "name": "ipython",
    "version": 3
   },
   "file_extension": ".py",
   "mimetype": "text/x-python",
   "name": "python",
   "nbconvert_exporter": "python",
   "pygments_lexer": "ipython3",
   "version": "3.7.6"
  }
 },
 "nbformat": 4,
 "nbformat_minor": 4
}
